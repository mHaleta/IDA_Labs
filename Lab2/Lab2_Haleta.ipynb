{
 "cells": [
  {
   "cell_type": "markdown",
   "metadata": {},
   "source": [
    "# Лабораторна робота №2\n",
    "## Методи визначення векторів ваг альтернатив на основі експертних даних\n",
    "## Галета М.С., КМ-91мп"
   ]
  },
  {
   "cell_type": "code",
   "execution_count": 1,
   "metadata": {},
   "outputs": [],
   "source": [
    "import numpy as np\n",
    "from scipy.stats.mstats import gmean     # Функція для обчислення середнього геометричного\n",
    "from itertools import combinations       # Функція для генерування комбінацій"
   ]
  },
  {
   "cell_type": "markdown",
   "metadata": {},
   "source": [
    "### Введення думок експертів та їх компетентності"
   ]
  },
  {
   "cell_type": "code",
   "execution_count": 2,
   "metadata": {},
   "outputs": [],
   "source": [
    "def input_experts_data(mpp_dimension, number_of_experts):\n",
    "    # mpp_dimension (int) - Розмірність матриці мультиплікативних парних порівнянь\n",
    "    # number_of_experts (int) - Кількість експертів\n",
    "\n",
    "    # Ініціалізація матриці парних порівнянь для кожного експерта\n",
    "    mpp = np.array(list(map(np.eye, number_of_experts*[mpp_dimension])))\n",
    "    \n",
    "    for k in range(number_of_experts):\n",
    "        for i in range(mpp_dimension):\n",
    "            for j in range(i+1, mpp_dimension, 1):\n",
    "                try:\n",
    "                    value = float(input(f\"Введіть елемент [{i+1},{j+1}] матриці парних порівнянь для експерта {k+1}: \"))\n",
    "                    if value <= 0 or value > 9:\n",
    "                        raise\n",
    "                    mpp[k][i][j], mpp[k][j][i] = value, 1/value\n",
    "                except Exception:\n",
    "                    mpp[k][i][j] = mpp[k][j][i] = np.nan\n",
    "            \n",
    "        print()\n",
    "\n",
    "    \n",
    "    # Ініціалізація вектору коефіцієнтів компетентності експертів\n",
    "    comp_coeffs = np.zeros(number_of_experts)\n",
    "    \n",
    "    for k in range(number_of_experts):\n",
    "        comp_coeffs[k] = float(input(f\"Введіть коефіцієнт компетентності експерта {k+1}: \"))\n",
    "        \n",
    "    # Нормалізація коефіцієнтів компетентності, щоб їх сума  дорівнювала 1\n",
    "    comp_coeffs /= np.sum(comp_coeffs)\n",
    "    \n",
    "    return mpp, comp_coeffs"
   ]
  },
  {
   "cell_type": "code",
   "execution_count": 3,
   "metadata": {},
   "outputs": [
    {
     "name": "stdout",
     "output_type": "stream",
     "text": [
      "Введіть елемент [1,2] матриці парних порівнянь для експерта 1: 3\n",
      "Введіть елемент [1,3] матриці парних порівнянь для експерта 1: 5\n",
      "Введіть елемент [1,4] матриці парних порівнянь для експерта 1: 5\n",
      "Введіть елемент [1,5] матриці парних порівнянь для експерта 1: 7\n",
      "Введіть елемент [2,3] матриці парних порівнянь для експерта 1: 3\n",
      "Введіть елемент [2,4] матриці парних порівнянь для експерта 1: 3\n",
      "Введіть елемент [2,5] матриці парних порівнянь для експерта 1: 5\n",
      "Введіть елемент [3,4] матриці парних порівнянь для експерта 1: 3\n",
      "Введіть елемент [3,5] матриці парних порівнянь для експерта 1: 1\n",
      "Введіть елемент [4,5] матриці парних порівнянь для експерта 1: 0.33\n",
      "\n",
      "Введіть елемент [1,2] матриці парних порівнянь для експерта 2: 3\n",
      "Введіть елемент [1,3] матриці парних порівнянь для експерта 2: 0.2\n",
      "Введіть елемент [1,4] матриці парних порівнянь для експерта 2: \n",
      "Введіть елемент [1,5] матриці парних порівнянь для експерта 2: 5\n",
      "Введіть елемент [2,3] матриці парних порівнянь для експерта 2: 0.2\n",
      "Введіть елемент [2,4] матриці парних порівнянь для експерта 2: 0.2\n",
      "Введіть елемент [2,5] матриці парних порівнянь для експерта 2: \n",
      "Введіть елемент [3,4] матриці парних порівнянь для експерта 2: 1\n",
      "Введіть елемент [3,5] матриці парних порівнянь для експерта 2: 7\n",
      "Введіть елемент [4,5] матриці парних порівнянь для експерта 2: 7\n",
      "\n",
      "Введіть елемент [1,2] матриці парних порівнянь для експерта 3: 0.33\n",
      "Введіть елемент [1,3] матриці парних порівнянь для експерта 3: 3\n",
      "Введіть елемент [1,4] матриці парних порівнянь для експерта 3: 0.33\n",
      "Введіть елемент [1,5] матриці парних порівнянь для експерта 3: 1\n",
      "Введіть елемент [2,3] матриці парних порівнянь для експерта 3: 3\n",
      "Введіть елемент [2,4] матриці парних порівнянь для експерта 3: 1\n",
      "Введіть елемент [2,5] матриці парних порівнянь для експерта 3: 3\n",
      "Введіть елемент [3,4] матриці парних порівнянь для експерта 3: 0.33\n",
      "Введіть елемент [3,5] матриці парних порівнянь для експерта 3: 0.33\n",
      "Введіть елемент [4,5] матриці парних порівнянь для експерта 3: 3\n",
      "\n",
      "Введіть коефіцієнт компетентності експерта 1: 0.5\n",
      "Введіть коефіцієнт компетентності експерта 2: 0.2\n",
      "Введіть коефіцієнт компетентності експерта 3: 0.3\n"
     ]
    }
   ],
   "source": [
    "mpp_dimension = 5\n",
    "number_of_experts = 3\n",
    "mpp, comp_coeffs = input_experts_data(mpp_dimension, number_of_experts)"
   ]
  },
  {
   "cell_type": "code",
   "execution_count": 4,
   "metadata": {},
   "outputs": [
    {
     "name": "stdout",
     "output_type": "stream",
     "text": [
      "Матриці парних порівнянь для кожного експерта:\n",
      "[[1.         3.         5.         5.         7.        ]\n",
      " [0.33333333 1.         3.         3.         5.        ]\n",
      " [0.2        0.33333333 1.         3.         1.        ]\n",
      " [0.2        0.33333333 0.33333333 1.         0.33      ]\n",
      " [0.14285714 0.2        1.         3.03030303 1.        ]]\n",
      "[[1.         3.         0.2               nan 5.        ]\n",
      " [0.33333333 1.         0.2        0.2               nan]\n",
      " [5.         5.         1.         1.         7.        ]\n",
      " [       nan 5.         1.         1.         7.        ]\n",
      " [0.2               nan 0.14285714 0.14285714 1.        ]]\n",
      "[[1.         0.33       3.         0.33       1.        ]\n",
      " [3.03030303 1.         3.         1.         3.        ]\n",
      " [0.33333333 0.33333333 1.         0.33       0.33      ]\n",
      " [3.03030303 1.         3.03030303 1.         3.        ]\n",
      " [1.         0.33333333 3.03030303 0.33333333 1.        ]]\n",
      "\n",
      "Коефіцієнти компетентності експертів:\n",
      "[0.5 0.2 0.3]\n"
     ]
    }
   ],
   "source": [
    "print(\"Матриці парних порівнянь для кожного експерта:\")\n",
    "for i in range(number_of_experts):\n",
    "    print(mpp[i])\n",
    "print(\"\\nКоефіцієнти компетентності експертів:\")\n",
    "print(comp_coeffs)"
   ]
  },
  {
   "cell_type": "code",
   "execution_count": 5,
   "metadata": {},
   "outputs": [],
   "source": [
    "class ExpertsDataAnalysis:\n",
    "    def __init__(self, mpps, coeffs):\n",
    "        self.mpps = mpps\n",
    "        self.coeffs = coeffs\n",
    "        self.n_experts = mpps.shape[0]\n",
    "        self.dim = mpps.shape[1]\n",
    "        self.weights = None\n",
    "        self.consistency = None\n",
    "    \n",
    "    def __call__(self, method, exclude_nan=True):\n",
    "        if method == 'eigen_vector':\n",
    "            return self.eigen_vector_method(exclude_nan)\n",
    "        elif method == 'combinatorial':\n",
    "            return self.combinatorial_method()\n",
    "    \n",
    "    def check_consistency(self):\n",
    "        geom_means = np.array(list(map(lambda x: len(x)*[np.nan] if np.isnan(x).any() else gmean(x, axis=1), self.mpps)))\n",
    "        self.weights = np.array(list(map(lambda x: x/np.sum(x), geom_means)))\n",
    "        lambda_max = np.diag(self.weights @ np.array(list(map(lambda x: np.sum(x, axis=0), self.mpps))).T)\n",
    "        \n",
    "        cons_index = (lambda_max-self.dim)/(self.dim-1)\n",
    "        self.consistency = list(map(lambda x: np.nan if np.isnan(x) else True if x < 0.1 else False, cons_index))\n",
    "    \n",
    "    def eigen_vector_method(self, exclude_nan):\n",
    "        if self.weights is None:\n",
    "            self.check_consistency()\n",
    "        \n",
    "        if exclude_nan:\n",
    "            weighted_gmean = np.prod(\n",
    "                list(\n",
    "                    map(lambda x, y: np.nan_to_num(x, nan=1)**y, self.weights, self.coeffs)\n",
    "                ), axis=0\n",
    "            )**(1/sum(self.coeffs))\n",
    "        else:\n",
    "            weighted_gmean = np.prod(list(map(lambda x, y: x**y, self.weights, self.coeffs)), axis=0)**(1/sum(self.coeffs))\n",
    "        \n",
    "        weighted_gmean /= np.sum(weighted_gmean)\n",
    "        return weighted_gmean\n",
    "    \n",
    "    def get_ideally_consistent_mpps(self, mpp):\n",
    "        indices = np.triu_indices(self.dim, k=1)\n",
    "        indices = np.array(indices).T[np.where(~np.isnan(mpp[indices]))].tolist()\n",
    "        \n",
    "        combs = list(combinations(indices, self.dim - 1))\n",
    "        \n",
    "        ideal_mpps = np.array(list(map(lambda x: np.eye(self.dim), range(len(combs)))))\n",
    "        for matrix, comb in zip(range(len(ideal_mpps)), combs):\n",
    "            comb_inv = tuple(np.array(comb).T)\n",
    "            ideal_mpps[matrix][comb_inv] = mpp[comb_inv]\n",
    "            ideal_mpps[matrix].T[comb_inv] = mpp.T[comb_inv]\n",
    "            \n",
    "            zero_idcs = np.array(np.where(ideal_mpps[matrix] == 0)).T.tolist()\n",
    "\n",
    "            excluded = []\n",
    "            for i,j in zero_idcs:\n",
    "                if [i,j] in excluded:\n",
    "                    continue\n",
    "                for k in range(self.dim):\n",
    "                    if ideal_mpps[matrix][i,k] !=0 and ideal_mpps[matrix][k,j] !=0:\n",
    "                        ideal_mpps[matrix][i,j] = ideal_mpps[matrix][i,k]*ideal_mpps[matrix][k,j]\n",
    "                        ideal_mpps[matrix][j,i] = 1/ideal_mpps[matrix][i,j]\n",
    "                        excluded.append([[i,j], [j,i]])\n",
    "                        break\n",
    "        \n",
    "        ideal_mpps = ideal_mpps[np.where(np.all(np.all(np.array(ideal_mpps) != 0, axis=1), axis=1))[0]]\n",
    "        \n",
    "        return ideal_mpps\n",
    "    \n",
    "    def combinatorial_method(self):\n",
    "        ideal_mpps = np.array(list(map(self.get_ideally_consistent_mpps, self.mpps)))\n",
    "        \n",
    "        weights = np.concatenate(np.array(list(map(lambda x: gmean(x, axis=2), ideal_mpps))), axis=0)\n",
    "        coeffs = np.concatenate(list(map(lambda i: len(ideal_mpps[i])*[self.coeffs[i]], range(len(self.coeffs)))), axis=0)\n",
    "        \n",
    "        weighted_gmean = np.prod(list(map(lambda x, y: x**y, weights, coeffs)), axis=0)**(1/sum(coeffs))\n",
    "        weighted_gmean /= np.sum(weighted_gmean)\n",
    "        \n",
    "        return weighted_gmean"
   ]
  },
  {
   "cell_type": "code",
   "execution_count": 6,
   "metadata": {},
   "outputs": [],
   "source": [
    "eda = ExpertsDataAnalysis(mpp, comp_coeffs)\n",
    "eda.check_consistency()"
   ]
  },
  {
   "cell_type": "code",
   "execution_count": 7,
   "metadata": {},
   "outputs": [
    {
     "name": "stdout",
     "output_type": "stream",
     "text": [
      "Матриця попарних порівнянь експерта 1 узгоджена\n",
      "Матриця попарних порівнянь експерта 2 неповна\n",
      "Матриця попарних порівнянь експерта 3 узгоджена\n"
     ]
    }
   ],
   "source": [
    "for i, cons in enumerate(eda.consistency):\n",
    "    if np.isnan(cons):\n",
    "        print(f\"Матриця попарних порівнянь експерта {i+1} неповна\")\n",
    "        continue\n",
    "    if cons:\n",
    "        print(f\"Матриця попарних порівнянь експерта {i+1} узгоджена\")\n",
    "    else:\n",
    "        print(f\"Матриця попарних порівнянь експерта {i+1} неузгоджена\")"
   ]
  },
  {
   "cell_type": "markdown",
   "metadata": {},
   "source": [
    "### Метод власного вектора"
   ]
  },
  {
   "cell_type": "code",
   "execution_count": 8,
   "metadata": {},
   "outputs": [
    {
     "data": {
      "text/plain": [
       "array([0.31915841, 0.29167168, 0.11918224, 0.13616866, 0.13381902])"
      ]
     },
     "execution_count": 8,
     "metadata": {},
     "output_type": "execute_result"
    }
   ],
   "source": [
    "weights = eda(\"eigen_vector\", True)\n",
    "weights"
   ]
  },
  {
   "cell_type": "markdown",
   "metadata": {},
   "source": [
    "### Комбінаторний метод"
   ]
  },
  {
   "cell_type": "code",
   "execution_count": 9,
   "metadata": {},
   "outputs": [
    {
     "data": {
      "text/plain": [
       "array([0.34127018, 0.28750165, 0.11942226, 0.13827555, 0.11353036])"
      ]
     },
     "execution_count": 9,
     "metadata": {},
     "output_type": "execute_result"
    }
   ],
   "source": [
    "weights = eda(\"combinatorial\")\n",
    "weights"
   ]
  },
  {
   "cell_type": "markdown",
   "metadata": {},
   "source": [
    "**Можна побачити, що ваги отримані двома методами, відрізняються між собою**\\\n",
    "**Ваги критеріїв 3 та 5 сприймаються майже рівними в комбінаторному методі, однак вони відрізняються, якщо обчислювати методом власного вектора**"
   ]
  },
  {
   "cell_type": "markdown",
   "metadata": {},
   "source": [
    "### Тестування на повних матрицях"
   ]
  },
  {
   "cell_type": "code",
   "execution_count": 10,
   "metadata": {},
   "outputs": [],
   "source": [
    "number_of_experts = 3\n",
    "mpp_dimension = 5\n",
    "\n",
    "mpp1 = np.array([\n",
    "    [1, 3, 5, 5, 7],\n",
    "    [1/3, 1, 3, 3, 5],\n",
    "    [1/5, 1/3, 1, 3, 1],\n",
    "    [1/5, 1/3, 1/3, 1, 1/3],\n",
    "    [1/7, 1/5, 1, 3, 1]\n",
    "])\n",
    "\n",
    "mpp2 = np.array([\n",
    "    [1, 3, 1/5, 1/5, 5],\n",
    "    [1/3, 1, 1/5, 1/5, 3],\n",
    "    [5, 5, 1, 1, 7],\n",
    "    [5, 5, 1, 1, 7],\n",
    "    [1/5, 1/3, 1/7, 1/7, 1]\n",
    "])\n",
    "\n",
    "mpp3 = np.array([\n",
    "    [1, 1/3, 3, 1/3, 1],\n",
    "    [3, 1, 3, 1, 3],\n",
    "    [1/3, 1/3, 1, 1/3, 1/3],\n",
    "    [3, 1, 3, 1, 3],\n",
    "    [1, 1/3, 3, 1/3, 1]\n",
    "])\n",
    "\n",
    "coeffs = np.array([0.5, 0.2, 0.3])\n",
    "\n",
    "mpps = np.array([mpp1, mpp2, mpp3])"
   ]
  },
  {
   "cell_type": "code",
   "execution_count": 11,
   "metadata": {},
   "outputs": [],
   "source": [
    "eda = ExpertsDataAnalysis(mpps, coeffs)\n",
    "eda.check_consistency()"
   ]
  },
  {
   "cell_type": "code",
   "execution_count": 12,
   "metadata": {},
   "outputs": [
    {
     "name": "stdout",
     "output_type": "stream",
     "text": [
      "Матриця попарних порівнянь експерта 1 узгоджена\n",
      "Матриця попарних порівнянь експерта 2 узгоджена\n",
      "Матриця попарних порівнянь експерта 3 узгоджена\n"
     ]
    }
   ],
   "source": [
    "for i, cons in enumerate(eda.consistency):\n",
    "    if np.isnan(cons):\n",
    "        print(f\"Матриця попарних порівнянь експерта {i+1} неповна\")\n",
    "        continue\n",
    "    if cons:\n",
    "        print(f\"Матриця попарних порівнянь експерта {i+1} узгоджена\")\n",
    "    else:\n",
    "        print(f\"Матриця попарних порівнянь експерта {i+1} неузгоджена\")"
   ]
  },
  {
   "cell_type": "code",
   "execution_count": 13,
   "metadata": {},
   "outputs": [
    {
     "data": {
      "text/plain": [
       "array([0.31750742, 0.25990373, 0.14878344, 0.16974975, 0.10405566])"
      ]
     },
     "execution_count": 13,
     "metadata": {},
     "output_type": "execute_result"
    }
   ],
   "source": [
    "weights = eda(\"eigen_vector\", True)\n",
    "weights"
   ]
  },
  {
   "cell_type": "code",
   "execution_count": 14,
   "metadata": {},
   "outputs": [
    {
     "data": {
      "text/plain": [
       "array([0.31681219, 0.25969621, 0.14889193, 0.17092557, 0.10367411])"
      ]
     },
     "execution_count": 14,
     "metadata": {},
     "output_type": "execute_result"
    }
   ],
   "source": [
    "weights = eda(\"combinatorial\")\n",
    "weights"
   ]
  },
  {
   "cell_type": "markdown",
   "metadata": {},
   "source": [
    "**При повних матрицях ваги критеріїв обчислені двома методами різняться лише чисельно, при точності < 0.01.**"
   ]
  }
 ],
 "metadata": {
  "kernelspec": {
   "display_name": "Python 3",
   "language": "python",
   "name": "python3"
  },
  "language_info": {
   "codemirror_mode": {
    "name": "ipython",
    "version": 3
   },
   "file_extension": ".py",
   "mimetype": "text/x-python",
   "name": "python",
   "nbconvert_exporter": "python",
   "pygments_lexer": "ipython3",
   "version": "3.7.7"
  }
 },
 "nbformat": 4,
 "nbformat_minor": 2
}
